{
 "cells": [
  {
   "cell_type": "code",
   "execution_count": 3,
   "id": "86bbb38c",
   "metadata": {},
   "outputs": [
    {
     "name": "stdout",
     "output_type": "stream",
     "text": [
      "Qual o estado do Qubit que deseja emaranhar?1\n",
      "[[0]\n",
      " [1]]\n"
     ]
    }
   ],
   "source": [
    "import numpy as np\n",
    "import math as mt\n",
    "import sympy as sp\n",
    "from sympy.physics.quantum import TensorProduct as TP\n",
    "from math import sqrt\n",
    "\n",
    "#Qubits iniciais\n",
    "qbit = int(input('Qual o estado do Qubit que deseja emaranhar?'))\n",
    "qbit0= np.matrix([1,0]).transpose()\n",
    "qbit1= np.matrix([0,1]).transpose()\n",
    "\n",
    "if qbit == 0:\n",
    "    qbit = qbit0\n",
    "elif qbit == 1:\n",
    "    qbit = qbit1\n",
    "else:\n",
    "    print('Estado não permitido, tente novamente')\n",
    "print (qbit)"
   ]
  },
  {
   "cell_type": "code",
   "execution_count": 2,
   "id": "5b163dce",
   "metadata": {},
   "outputs": [
    {
     "name": "stdout",
     "output_type": "stream",
     "text": [
      "[[ 0.70710678  0.          0.70710678  0.        ]\n",
      " [ 0.          0.70710678  0.          0.70710678]\n",
      " [ 0.70710678  0.         -0.70710678  0.        ]\n",
      " [ 0.          0.70710678  0.         -0.70710678]]\n",
      "[[1]\n",
      " [0]\n",
      " [0]\n",
      " [0]]\n",
      "[[0.70710678]\n",
      " [0.        ]\n",
      " [0.70710678]\n",
      " [0.        ]]\n"
     ]
    }
   ],
   "source": [
    "#Porta H\n",
    "H = np.matrix([[1,1], [1,-1]])\n",
    "\n",
    "#Porta I\n",
    "I = np.matrix ([[1,0], [0,1]])\n",
    "\n",
    "#Dimensionamento\n",
    "HI = TP(H,I)*(1/sqrt(2))\n",
    "\n",
    "print(HI)\n",
    "\n",
    "#Aplicação da porta Hadamard\n",
    "qbitxy= TP(qbit,qbit)\n",
    "\n",
    "print(qbitxy)\n",
    "\n",
    "Hqbit= HI * qbitxy\n",
    "\n",
    "print(Hqbit)"
   ]
  },
  {
   "cell_type": "code",
   "execution_count": 23,
   "id": "2cdcc649",
   "metadata": {
    "scrolled": true
   },
   "outputs": [
    {
     "name": "stdout",
     "output_type": "stream",
     "text": [
      "[[0.70710678]\n",
      " [0.        ]\n",
      " [0.        ]\n",
      " [0.70710678]]\n"
     ]
    }
   ],
   "source": [
    "# Porta CNOT\n",
    "CNOT = np.matrix([[1,0,0,0],[0,1,0,0],[0,0,0,1],[0,0,1,0]])\n",
    "\n",
    "# Aplicação da porta CNOT\n",
    "Bell = CNOT * Hqbit\n",
    "\n",
    "print(Bell)"
   ]
  },
  {
   "cell_type": "code",
   "execution_count": 26,
   "id": "61f9c971",
   "metadata": {},
   "outputs": [
    {
     "name": "stdout",
     "output_type": "stream",
     "text": [
      "[[0.70710678]\n",
      " [0.        ]\n",
      " [0.70710678]\n",
      " [0.        ]]\n"
     ]
    }
   ],
   "source": [
    "# Estado psi1\n",
    "# Aplicação de CNOT qubit alvo\n",
    "\n",
    "psi1 = CNOT * Bell\n",
    "\n",
    "print(psi1)"
   ]
  },
  {
   "cell_type": "code",
   "execution_count": null,
   "id": "811e73ea",
   "metadata": {},
   "outputs": [],
   "source": []
  },
  {
   "cell_type": "code",
   "execution_count": null,
   "id": "dfa5cd3b",
   "metadata": {},
   "outputs": [],
   "source": []
  }
 ],
 "metadata": {
  "kernelspec": {
   "display_name": "Python 3 (ipykernel)",
   "language": "python",
   "name": "python3"
  },
  "language_info": {
   "codemirror_mode": {
    "name": "ipython",
    "version": 3
   },
   "file_extension": ".py",
   "mimetype": "text/x-python",
   "name": "python",
   "nbconvert_exporter": "python",
   "pygments_lexer": "ipython3",
   "version": "3.10.6"
  }
 },
 "nbformat": 4,
 "nbformat_minor": 5
}
