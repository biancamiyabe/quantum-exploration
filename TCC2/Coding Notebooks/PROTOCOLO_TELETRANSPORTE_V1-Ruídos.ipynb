{
 "cells": [
  {
   "cell_type": "markdown",
   "id": "31caca16",
   "metadata": {},
   "source": [
    "# Protocolo de Teletransporte na presença de ruídos\n",
    "Para a implementação do protocolo, iniciaremos carregando as seguintes bibliotecas e funções.\n",
    "Vale ressaltar que as bibliotecas nos fornecem os recursos necessários para o desenvolvimento das operações.\n",
    "As funções **TensorProduct** e **sqrt** foram importadas para tornar as operações mais objetivas."
   ]
  },
  {
   "cell_type": "code",
   "execution_count": 1,
   "id": "cb4f509d",
   "metadata": {},
   "outputs": [],
   "source": [
    "\n",
    "import numpy as np\n",
    "import math as mt\n",
    "import sympy as sp\n",
    "from sympy.physics.quantum import TensorProduct as TP\n",
    "from math import sqrt\n",
    "import sys\n",
    "import random\n"
   ]
  },
  {
   "cell_type": "markdown",
   "id": "7e85cc30",
   "metadata": {},
   "source": [
    "### Qubits iniciais\n",
    "Para iniciar o protocolo, iremos definir os possíveis estados de entrada dos qubits que serão operacionalizados.\n",
    "As bases da Computação Quântica definem as bases $|0>$ e $|1>$ e sua representação matricial é descrita por $ \\begin{bmatrix}\n",
    "1 \\\\\n",
    "0\n",
    "\\end{bmatrix}\n",
    "$ e $ \\begin{bmatrix}\n",
    "0 \\\\\n",
    "1\n",
    "\\end{bmatrix}\n",
    "$ respectivamente.\n",
    "\n",
    "### Operadores quânticos\n",
    "Devem ser definidos também, todas os operadores/portas lógicas que atuarão durante o protocolo. Sendo eles os operadores ***CNOT***, ***Hadamard***, ***Pauli-X***, ***Pauli-Z*** e ***Identidade***.\n",
    "Suas representações matriciais são descritas por:\n",
    "\n",
    "<center>$ CNOT = \\begin{bmatrix}\n",
    "1 & 0 & 0 & 0 \\\\\n",
    "0 & 1 & 0 & 0 \\\\\n",
    "0 & 0 & 0 & 1 \\\\\n",
    "0 & 0 & 1 & 0\n",
    "\\end{bmatrix}\n",
    "$ , $ H = \\frac{1}{\\sqrt2} \\begin{bmatrix}\n",
    "1 & 1 \\\\\n",
    "1 & -1\n",
    "\\end{bmatrix}$ , $ X = \\begin{bmatrix}\n",
    "0 & 1 \\\\\n",
    "1 & 0\n",
    "\\end{bmatrix}$, $ Z = \\begin{bmatrix}\n",
    "1 & 0 \\\\\n",
    "0 & -1\n",
    "\\end{bmatrix}$ e $ I = \\begin{bmatrix}\n",
    "1 & 0 \\\\\n",
    "0 & 1\n",
    "\\end{bmatrix}$.</center>\n"
   ]
  },
  {
   "cell_type": "code",
   "execution_count": 2,
   "id": "4145b481",
   "metadata": {},
   "outputs": [],
   "source": [
    "#Variáveis que descrevem os qubits\n",
    "qbit0= np.matrix([1,0]).transpose()\n",
    "qbit1= np.matrix([0,1]).transpose()\n",
    "\n",
    "#Variáveis que descrevem os operadores quânticos\n",
    "#CNOT\n",
    "CNOT = np.matrix([[1,0,0,0],[0,1,0,0],[0,0,0,1],[0,0,1,0]])\n",
    "\n",
    "#Hadamard\n",
    "H = 1/sqrt(2)*(np.matrix([[1,1], [1,-1]]))\n",
    "\n",
    "# Pauli-X\n",
    "X = np.matrix([[0, 1], [1, 0]])\n",
    "\n",
    "# Pauli-Z\n",
    "Z = np.matrix([[1, 0], [0, -1]])\n",
    "\n",
    "#Identidade\n",
    "I = np.matrix ([[1,0], [0,1]])"
   ]
  },
  {
   "cell_type": "markdown",
   "id": "3542b346",
   "metadata": {},
   "source": [
    "## Emaranhamento\n",
    "O protocolo é iniciado com a realização do emaranhamento de modo que aplicaremos a porta ***H*** no estado $|0>$ e em seguida, definiremos o qubit alvo e o qubit controle para a aplicação da porta ***CNOT***. O qubit alvo e controle são definidos realizando o produto tensorial do primeiro pelo segundo de modo que:\n",
    "$$ AC = \\frac{1}{\\sqrt2} \\begin{bmatrix}\n",
    "1 \\\\\n",
    "1\n",
    "\\end{bmatrix} \\otimes \\begin{bmatrix}\n",
    "1 \\\\\n",
    "0\n",
    "\\end{bmatrix}\n",
    "$$\n",
    "Vale ressaltar que nesse caso estamos emaranhando dois qubits no estado $|0>$ criando uma das Bases de Bell que, nesse caso é descrita por:\n",
    "$$\\Phi_+ = \\frac{1}{\\sqrt2} \\begin{bmatrix}\n",
    "1 \\\\\n",
    "0 \\\\\n",
    "0 \\\\\n",
    "1\n",
    "\\end{bmatrix}\n",
    "$$"
   ]
  },
  {
   "cell_type": "code",
   "execution_count": 3,
   "id": "5fb5b7b1",
   "metadata": {},
   "outputs": [],
   "source": [
    "\n",
    "#Aplicação da porta Hadamard no qubit-0\n",
    "Hqbit0= H*qbit0\n",
    "\n",
    "#Definição Alvo e Controle\n",
    "AC= TP(Hqbit0,qbit0)\n",
    "\n",
    "#Aplicação da porta CNOT\n",
    "Bell00 = CNOT * AC\n",
    "  "
   ]
  },
  {
   "cell_type": "markdown",
   "id": "2b6d636c",
   "metadata": {},
   "source": [
    "Iremos agora definir o estado do qubit que será teletransportado. Para isso é solicitado ao usuário que insira as probabilidades de $\\alpha$ e $\\beta$ desejados. Lembrando que estas devem estar normalizadas e sua soma deve ser igual a 1, caso contrário o programa não pode continuar operando.\n",
    "Como o estado do qubit generalizado é definido por:\n",
    "$$ |\\psi> = \\alpha \\begin{bmatrix}\n",
    "1 \\\\\n",
    "0\n",
    "\\end{bmatrix} + \\beta \\begin{bmatrix}\n",
    "0 \\\\\n",
    "1\n",
    "\\end{bmatrix}\n",
    "$$\n",
    "Atribuímos os valores inseridos de $\\alpha$ e $\\beta$ ao estado inicial."
   ]
  },
  {
   "cell_type": "code",
   "execution_count": 4,
   "id": "dd776e6f",
   "metadata": {},
   "outputs": [
    {
     "name": "stdout",
     "output_type": "stream",
     "text": [
      "Qual o estado alfa do Qubit que deseja enviar?0.5\n",
      "Qual o estado beta do Qubit que deseja enviar?0.5\n",
      "[[0.5]\n",
      " [0.5]]\n"
     ]
    }
   ],
   "source": [
    "#Determinação do qubit para o protocolo\n",
    "estado_alfa = float(input('Qual o estado alfa do Qubit que deseja enviar?'))\n",
    "estado_beta = float(input('Qual o estado beta do Qubit que deseja enviar?'))\n",
    "\n",
    "\n",
    "#Verifica se a soma é igual a 1 (condição de normalização)\n",
    "if not mt.isclose(estado_alfa  + estado_beta, 1.0):\n",
    "    print(\"Erro: A soma das entradas não é igual a 1.\")\n",
    "    sys.exit()\n",
    "    \n",
    "#Determina a mensagem a ser enviada\n",
    "alfa_inicial = (estado_alfa * qbit0)\n",
    "beta_inicial = (estado_beta * qbit1)\n",
    "estado_inicial = alfa_inicial + beta_inicial\n",
    "\n",
    "print(estado_inicial)"
   ]
  },
  {
   "cell_type": "markdown",
   "id": "47f4c0a5",
   "metadata": {},
   "source": [
    "A próxima etapa do protocolo consiste na aplicação da porta ***CNOT*** nos três qubits que compõem o estado geral do sistema.\n",
    "Os três qubits são o estado inicial a ser teletransportado atuando como controle e o par emaranhado atuando como alvo. A atuação ocorre apenas no qubit presente no local **A**, porém afeta probabilisticamente o qubit no local **B**.\n",
    "Para definir o estado geral são somados os produtos tensoriais de todos os estados dos qubits. Em seguida, a porta ***CNOT*** é dimensionada para atuar sob três qubits com a realização do produto tensorial entre ***CNOT*** e ***I*** e por último multiplicamos a porta ***CNOT*** pela soma dos estados dos qubits. Esse estado é chamado de $|\\psi_1>$ e pode ser definido por:\n",
    "$$ |\\psi_1> = \\frac{1}{\\sqrt2} \\left\\{ \\alpha \\begin{bmatrix}\n",
    "1 \\\\\n",
    "0\n",
    "\\end{bmatrix} \\otimes  \\begin{bmatrix}\n",
    "1 \\\\\n",
    "0 \\\\\n",
    "0 \\\\\n",
    "1\n",
    "\\end{bmatrix}  + \\beta \\begin{bmatrix}\n",
    "0 \\\\\n",
    "1\n",
    "\\end{bmatrix} \\otimes  \\begin{bmatrix}\n",
    "0 \\\\\n",
    "1 \\\\\n",
    "1 \\\\\n",
    "0\n",
    "\\end{bmatrix}  \\right\\}\n",
    "$$\n",
    "Em seguida, a porta ***H*** é aplicada no qubit a ser teletransportado. Sua aplicação foi realizada em cada um dos estados do qubit de maneira isolada para melhor observação da modificação dos estados deste. Após a aplicação da porta ***H*** o estado $|\\psi_2>$ é definido por:\n",
    "$$|\\psi_2> = \\frac{1}{2} \\left\\{ \\alpha \\begin{bmatrix}\n",
    "1 \\\\\n",
    "1\n",
    "\\end{bmatrix} \\begin{bmatrix}\n",
    "1 \\\\\n",
    "0 \\\\\n",
    "0 \\\\\n",
    "1\n",
    "\\end{bmatrix} + \\beta \\begin{bmatrix}\n",
    "1 \\\\\n",
    "-1\n",
    "\\end{bmatrix} \\begin{bmatrix}\n",
    "0 \\\\\n",
    "1 \\\\\n",
    "1 \\\\\n",
    "0\n",
    "\\end{bmatrix} \\right\\}\n",
    "$$"
   ]
  },
  {
   "cell_type": "code",
   "execution_count": 5,
   "id": "cefcb26f",
   "metadata": {
    "scrolled": false
   },
   "outputs": [],
   "source": [
    "#Estado geral (produto tensorial entre os estados de todos os qubits do sistema) \n",
    "psi_0 = TP(qbit0, qbit0, qbit0) + TP(qbit0, qbit1, qbit1) + TP(qbit1,qbit0, qbit0) + TP(qbit1,qbit1,qbit1)\n",
    "\n",
    "#Dimensionamento da porta CNOT para 3 qubits\n",
    "CNOT_I = TP(CNOT,I)\n",
    "\n",
    "#Aplicação da porta CNOT\n",
    "psi_1 = CNOT_I * psi_0\n",
    "\n",
    "#Aplicação da porta Hadamard\n",
    "H_estado_alfa = H * alfa_inicial\n",
    "H_estado_beta = H * beta_inicial"
   ]
  },
  {
   "cell_type": "markdown",
   "id": "e66f93cb",
   "metadata": {},
   "source": [
    "Para realizar a Medição e a Reconstrução do estado inicial, iremos separar os estados associados às probabilidades $\\alpha$ e $\\beta$ de modo que:\n",
    "$$ \\alpha \\begin{bmatrix}\n",
    "1 \\\\\n",
    "1\n",
    "\\end{bmatrix} = \\alpha \\begin{bmatrix}\n",
    "1 \\\\\n",
    "0\n",
    "\\end{bmatrix} + \\alpha \\begin{bmatrix}\n",
    "0 \\\\\n",
    "1\n",
    "\\end{bmatrix} \\quad e  \\quad     \\beta \\begin{bmatrix}\n",
    "1 \\\\\n",
    "-1\n",
    "\\end{bmatrix} = \\beta \\begin{bmatrix}\n",
    "1 \\\\\n",
    "0 \n",
    "\\end{bmatrix} - \\beta \\begin{bmatrix}\n",
    "0 \\\\\n",
    "1\n",
    "\\end{bmatrix}\n",
    "$$"
   ]
  },
  {
   "cell_type": "code",
   "execution_count": 6,
   "id": "a2e1af74",
   "metadata": {},
   "outputs": [],
   "source": [
    "#Separação dos estados Alfa e Beta\n",
    "\n",
    "estadoa0 = float(H_estado_alfa[0][0])\n",
    "estadoa1 = float(H_estado_alfa[1][0])\n",
    "estadob0 = float(H_estado_beta[0][0])\n",
    "estadob1 = float(H_estado_beta[1][0])\n",
    "\n",
    "#Determinação dos estados do qbit enviado\n",
    "a0 = np.matrix([estadoa0,0]).transpose()\n",
    "a1 = np.matrix([0,estadoa1]).transpose()\n",
    "b0 = np.matrix([estadob0,0]).transpose()\n",
    "b1 = np.matrix([0,estadob1]).transpose()"
   ]
  },
  {
   "cell_type": "markdown",
   "id": "ffb20203",
   "metadata": {},
   "source": [
    "Para realizar a medição, foram estabelecidos os possíveis estados presentes em **A**, e um deles foi escolhido de maneira aleatória, lembrando que a probabilidade de colapso em cada um dos estados é de $\\frac{1}{4}$. Os estados que não foram escolhidos foram deletados, simulando o colapso do sistema."
   ]
  },
  {
   "cell_type": "code",
   "execution_count": 7,
   "id": "d788f4e9",
   "metadata": {
    "scrolled": true
   },
   "outputs": [
    {
     "name": "stdout",
     "output_type": "stream",
     "text": [
      "[[0]\n",
      " [0]\n",
      " [0]\n",
      " [1]]\n"
     ]
    }
   ],
   "source": [
    "#Medição\n",
    "\n",
    "estado_00 = TP(qbit0, qbit0)\n",
    "estado_11 = TP(qbit1, qbit1)\n",
    "estado_10 = TP(qbit1, qbit0)\n",
    "estado_01 = TP(qbit0, qbit1)\n",
    "\n",
    "group_estados = [estado_00,estado_11,estado_10,estado_01]\n",
    "chosen_estados = random.choice(group_estados)\n",
    "Medição = chosen_estados\n",
    "\n",
    "del estado_00, estado_11, estado_10, estado_01\n",
    "\n",
    "print(Medição)"
   ]
  },
  {
   "cell_type": "markdown",
   "id": "be961a6c",
   "metadata": {},
   "source": [
    "As etapas a seguir acontecem no local **B** com o qubit do par emaranhado. Segundo o estado colapsado enviado por **A**, o qubit em **B** terá um estado correspondente de acordo com a relação:\n",
    "\n",
    "Estado Medido em **A** | Estado do qubit emaranhado em **B**\n",
    ":---------------------:|:----------------------------------:\n",
    "$|00>$                 | $\\alpha \\begin{bmatrix} 1 \\\\ 0 \\end{bmatrix} + \\beta \\begin{bmatrix} 0 \\\\ 1 \\end{bmatrix}$\n",
    "$|11>$                 | $\\alpha \\begin{bmatrix} 0 \\\\ 1 \\end{bmatrix} - \\beta \\begin{bmatrix} 1 \\\\ 0 \\end{bmatrix}$\n",
    "$|01>$                 | $\\alpha \\begin{bmatrix} 0 \\\\ 1 \\end{bmatrix} + \\beta \\begin{bmatrix} 1 \\\\ 0 \\end{bmatrix}$\n",
    "$|10>$                 | $\\alpha \\begin{bmatrix} 1 \\\\ 0 \\end{bmatrix} - \\beta \\begin{bmatrix} 0 \\\\ 1 \\end{bmatrix}$\n",
    "\n"
   ]
  },
  {
   "cell_type": "code",
   "execution_count": 8,
   "id": "317f83d1",
   "metadata": {},
   "outputs": [],
   "source": [
    "#Define o estado em B em função da medição realizada em A\n",
    "\n",
    "if  np.all(Medição == (TP(qbit0,qbit0))):\n",
    "    estado_tp = (a0-b1)\n",
    "elif  np.all(Medição == (TP(qbit1,qbit1))):\n",
    "    estado_tp = (a1-b0)\n",
    "elif  np.all(Medição == (TP(qbit0,qbit1))):\n",
    "    estado_tp = (a1+b0)\n",
    "elif np.all(Medição == (TP(qbit1,qbit0))):\n",
    "    estado_tp = (a0+b1)"
   ]
  },
  {
   "cell_type": "markdown",
   "id": "a70fb32d",
   "metadata": {},
   "source": [
    "Agora, de acordo com o estado associado em B, uma sequência de operações deverão ser realizadas conforme a relação: \n",
    "Estado do qubit emaranhado em **B**                                                        | Operação realizada\n",
    ":-----------------------------------------------------------------------------------------:|:------------------:\n",
    "$\\alpha \\begin{bmatrix} 1 \\\\ 0 \\end{bmatrix} + \\beta \\begin{bmatrix} 0 \\\\ 1 \\end{bmatrix}$ | Nenhuma operação\n",
    "$\\alpha \\begin{bmatrix} 0 \\\\ 1 \\end{bmatrix} - \\beta \\begin{bmatrix} 1 \\\\ 0 \\end{bmatrix}$ | X e Z\n",
    "$\\alpha \\begin{bmatrix} 0 \\\\ 1 \\end{bmatrix} + \\beta \\begin{bmatrix} 1 \\\\ 0 \\end{bmatrix}$ | X\n",
    "$\\alpha \\begin{bmatrix} 1 \\\\ 0 \\end{bmatrix} - \\beta \\begin{bmatrix} 0 \\\\ 1 \\end{bmatrix}$ | Z\n"
   ]
  },
  {
   "cell_type": "code",
   "execution_count": 9,
   "id": "cd4d818a",
   "metadata": {},
   "outputs": [],
   "source": [
    "if np.all(estado_tp == (a0-b1)):\n",
    "    estado_final = estado_tp\n",
    "elif np.all(estado_tp == (a1-b0)):\n",
    "    estado_final = Z * X * estado_tp \n",
    "elif np.all(estado_tp == (a1+b0)):\n",
    "    estado_final = X * estado_tp \n",
    "elif np.all(estado_tp == (a0+b1)):\n",
    "    estado_final = Z * estado_tp \n",
    "    \n",
    "estado_teletransportado = estado_final*sqrt(2)    \n",
    "\n",
    "alfa = float(estado_teletransportado[0][0])\n",
    "beta = float(estado_teletransportado[1][0])\n",
    "\n",
    "alfa_final = np.matrix([alfa,0]).transpose()\n",
    "beta_final = np.matrix([0,beta]).transpose()"
   ]
  },
  {
   "cell_type": "markdown",
   "id": "40786df5",
   "metadata": {},
   "source": [
    "Se durante o processo, algum ruído ocorresse, o estado do qubit teletransportado seria alterado. A simulação de uma interação com os ruídos ***bitflip*** e ***phaseflip*** foi implementada de modo que o usuário pode selecionar se o teletransporte teve ou não ruído e em caso afirmativo, qual ruído ocorreu.\n",
    "O ruído do tipo ***bitflip*** inverte o estado do qubit, ou seja, se este era $|0>$ passa a ser $|1>$ e vice-versa.\n",
    "O ruído do tipo ***phaseflip*** inverte a fase do qubit."
   ]
  },
  {
   "cell_type": "code",
   "execution_count": 10,
   "id": "65547fe3",
   "metadata": {},
   "outputs": [
    {
     "name": "stdout",
     "output_type": "stream",
     "text": [
      "Escolha o ruído:[0]- sem ruído, [1]- bitflip, [2]- phaseflip: 1\n"
     ]
    }
   ],
   "source": [
    "#Aplicação de ruído\n",
    "#Determinando os ruídos\n",
    "bitflip = np.matrix([[0, 1], [1, 0]])\n",
    "phaseflip = np.matrix([[1, 0], [0, -1]])\n",
    "noisebit = 0\n",
    "\n",
    "# Escolha do ruído aplicado\n",
    "while True:\n",
    "    noise = input('Escolha o ruído:[0]- sem ruído, [1]- bitflip, [2]- phaseflip: ')\n",
    "    if noise in ['0', '1', '2']:\n",
    "        noise = int(noise)\n",
    "        break\n",
    "    else:\n",
    "        print(\"Opção inválida. Por favor, digite 0, 1, 2 ou 3.\")\n",
    "\n",
    "if noise == 1:\n",
    "    noisebit = bitflip\n",
    "elif noise == 2:\n",
    "    noisebit = phaseflip\n",
    "elif noise == 0:\n",
    "    noisebit = 1\n",
    "\n",
    "aplicação_noise_a = noisebit * alfa_final\n",
    "aplicação_noise_b = noisebit * beta_final\n",
    "\n",
    "alfa_noise = aplicação_noise_a\n",
    "beta_noise = aplicação_noise_b\n",
    "\n",
    "alfa_final = alfa_noise\n",
    "beta_final = beta_noise"
   ]
  },
  {
   "cell_type": "markdown",
   "id": "8d4f55be",
   "metadata": {},
   "source": [
    "Por fim, para verificar se o teletransporte funcionou e ainda, se houve ou não ruído e qual a natureza deste, a sequência de testes abaixo foi implementada.\n",
    "Neles, comparamos os estados associados as probabilidades $\\alpha$ e $beta$ antes(inicial) e depois(final) do teletransporte."
   ]
  },
  {
   "cell_type": "code",
   "execution_count": 11,
   "id": "c76282fc",
   "metadata": {},
   "outputs": [
    {
     "name": "stdout",
     "output_type": "stream",
     "text": [
      "Mensagem teletransportada com ruído do tipo bitflip [[0.5]\n",
      " [0.5]]\n"
     ]
    }
   ],
   "source": [
    "if np.all((alfa_final == alfa_inicial) & (beta_final == beta_inicial)):\n",
    "    print('Teletransporte concluído com sucesso e sem presença de ruídos', alfa_final+beta_final)\n",
    "else:\n",
    "    if np.all((alfa_inicial[0][0] == alfa_final[1][0]) & (alfa_inicial[1][0] == alfa_final[0][0]) & (beta_inicial[1][0] == beta_final[0][0]) & (beta_inicial[0][0] == beta_final[1][0])):\n",
    "        print(\"Mensagem teletransportada com ruído do tipo bitflip\", alfa_final+beta_final)\n",
    "    elif np.all((alfa_inicial[0][0] == alfa_final[0][0]) & (alfa_inicial[1][0] == -alfa_final[1][0]) & (beta_inicial[1][0] == -beta_final[1][0]) &(beta_inicial[0][0] == beta_final[0][0])):\n",
    "        print(\"Mensagem teletransportada com ruído do tipo phaseflip\", alfa_final+beta_final)\n",
    "    else:\n",
    "        print(\"Erro de teletransporte\")"
   ]
  },
  {
   "cell_type": "markdown",
   "id": "fba0483a",
   "metadata": {},
   "source": [
    "Vale ressaltar que o protocolo acima é uma simplificação de uma situação real e tem como finalidade compreender os procedimentos associados a ele."
   ]
  },
  {
   "cell_type": "code",
   "execution_count": null,
   "id": "76e97dee",
   "metadata": {},
   "outputs": [],
   "source": []
  }
 ],
 "metadata": {
  "kernelspec": {
   "display_name": "Python 3 (ipykernel)",
   "language": "python",
   "name": "python3"
  },
  "language_info": {
   "codemirror_mode": {
    "name": "ipython",
    "version": 3
   },
   "file_extension": ".py",
   "mimetype": "text/x-python",
   "name": "python",
   "nbconvert_exporter": "python",
   "pygments_lexer": "ipython3",
   "version": "3.10.6"
  }
 },
 "nbformat": 4,
 "nbformat_minor": 5
}
