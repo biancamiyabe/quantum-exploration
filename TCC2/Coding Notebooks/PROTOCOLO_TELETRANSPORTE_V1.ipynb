{
 "cells": [
  {
   "cell_type": "code",
   "execution_count": null,
   "id": "fc6aabbc",
   "metadata": {},
   "outputs": [],
   "source": [
    "import numpy as np\n",
    "import math as mt\n",
    "import sympy as sp\n",
    "from sympy.physics.quantum import TensorProduct as TP\n",
    "from math import sqrt\n",
    "import sys\n",
    "import random"
   ]
  },
  {
   "cell_type": "code",
   "execution_count": 77,
   "id": "5fb5b7b1",
   "metadata": {},
   "outputs": [],
   "source": [
    "#Qubits iniciais\n",
    "qbit0= np.matrix([1,0]).transpose()\n",
    "qbit1= np.matrix([0,1]).transpose()\n",
    "\n",
    "\n",
    "#Porta H\n",
    "H = np.matrix([[1,1], [1,-1]])\n",
    "\n",
    "#Porta I\n",
    "I = np.matrix ([[1,0], [0,1]])\n",
    "\n",
    "#Dimensionamento\n",
    "H_I = TP(H,I)*(1/sqrt(2))\n",
    "\n",
    "\n",
    "#Aplicação da porta Hadamard\n",
    "qbit00 = TP(qbit0,qbit0)\n",
    "qbit01 = TP(qbit0,qbit1)\n",
    "qbit10 = TP(qbit1,qbit0)\n",
    "qbit11 = TP(qbit1,qbit1)\n",
    "\n",
    "#Estados de Bell\n",
    "Bell00= H_I * qbit00\n",
    "Bell01 = H_I * qbit01\n",
    "Bell10 = H_I * qbit10\n",
    "Bell11 = H_I * qbit11\n",
    "\n",
    "\n",
    "#print(Bell00,Bell01,Bell10,Bell11)\n",
    "   "
   ]
  },
  {
   "cell_type": "code",
   "execution_count": 78,
   "id": "cefcb26f",
   "metadata": {
    "scrolled": false
   },
   "outputs": [
    {
     "name": "stdout",
     "output_type": "stream",
     "text": [
      "Qual o estado alfa do Qubit que deseja enviar?1.5\n",
      "Qual o estado beta do Qubit que deseja enviar?-0.5\n",
      "[[ 1.5]\n",
      " [-0.5]]\n"
     ]
    }
   ],
   "source": [
    "#Determinação dos qubits para o protocolo\n",
    "\n",
    "Alice_Bell = (1/sqrt(2))*(qbit0+qbit1)\n",
    "Bob_Bell =(1/sqrt(2))*(qbit0+qbit1)\n",
    "Message_alfa = float(input('Qual o estado alfa do Qubit que deseja enviar?'))\n",
    "Message_beta = float(input('Qual o estado beta do Qubit que deseja enviar?'))\n",
    "\n",
    "\n",
    "# verifica se a soma é igual a 1\n",
    "if Message_alfa + Message_beta != 1:\n",
    "    print(\"Erro: A soma das entradas não é igual a 1.\")\n",
    "    sys.exit()\n",
    "    \n",
    "#Determina a mensagem a ser enviada\n",
    "Message = (Message_alfa * qbit0) + (Message_beta * qbit1)\n",
    "\n",
    "print(Message)\n",
    "#Estado psi_0 (Message + Bell)\n",
    "\n",
    "psi_0 = TP(qbit0, qbit00) + TP(qbit0, qbit11) + TP(qbit1,qbit00) + TP(qbit1,qbit11)\n",
    "#print(psi_0)\n",
    "\n",
    "#Aplicação da porta CNOT\n",
    "CNOT = np.matrix([[1,0,0,0],[0,1,0,0],[0,0,0,1],[0,0,1,0]])\n",
    "CNOT_I = TP(CNOT,I)\n",
    "#print(CNOT_I)\n",
    "psi_1 = CNOT_I * psi_0\n",
    "\n",
    "#print(psi_1)\n",
    "\n",
    "#Aplicação da porta Hadamard\n",
    "H_Message_alfa = H * (Message_alfa * qbit0)\n",
    "H_Message_beta = H * (Message_beta * qbit1)\n",
    "\n",
    "#print(H_Message_alfa, H_Message_beta)"
   ]
  },
  {
   "cell_type": "code",
   "execution_count": 79,
   "id": "d788f4e9",
   "metadata": {},
   "outputs": [
    {
     "name": "stdout",
     "output_type": "stream",
     "text": [
      "[[0]\n",
      " [1]\n",
      " [0]\n",
      " [0]]\n"
     ]
    }
   ],
   "source": [
    "#Medida e Reconstrução da Mensagem\n",
    "\n",
    "#Determinação dos estados do qbitmensagem\n",
    "a1 = qbit0*Message_alfa\n",
    "a2 = qbit1*Message_alfa\n",
    "b1 = qbit0*Message_beta\n",
    "b2 = -qbit1*Message_beta\n",
    "\n",
    "#print(a1,a2,b1,b2)\n",
    "\n",
    "#Determinação dos possíveis estados da Mensagem\n",
    "ab1 = a1-b2\n",
    "ab2 = a2-b1\n",
    "ab3 = a2+b1\n",
    "ab4 = a1+b2\n",
    "\n",
    "#Medição\n",
    "\n",
    "estado_00 = qbit00\n",
    "estado_11 = qbit11\n",
    "estado_10 = qbit10\n",
    "estado_01 = qbit01\n",
    "\n",
    "group_estados = [estado_00,estado_11,estado_10,estado_01]\n",
    "chosen_estados = random.choice(group_estados)\n",
    "Medição = chosen_estados\n",
    "\n",
    "del estado_00, estado_11, estado_10, estado_01\n",
    "\n",
    "print(Medição)"
   ]
  },
  {
   "cell_type": "code",
   "execution_count": 80,
   "id": "bb134717",
   "metadata": {
    "scrolled": true
   },
   "outputs": [
    {
     "name": "stdout",
     "output_type": "stream",
     "text": [
      "Teletransporte concluído com sucesso\n",
      "[[ 1.5]\n",
      " [-0.5]]\n"
     ]
    }
   ],
   "source": [
    "#Reconstrução da Mensagem\n",
    "\n",
    "# Define as matrizes de Pauli\n",
    "X = np.matrix([[0, 1], [1, 0]])\n",
    "Z = np.matrix([[1, 0], [0, -1]])\n",
    "\n",
    "# Define o qubit mensagem em função do estado medido\n",
    "if  np.all(Medição == qbit00):\n",
    "    Message_tp = ab1\n",
    "elif  np.all(Medição == qbit11):\n",
    "    Message_tp = ab2\n",
    "elif  np.all(Medição == qbit01):\n",
    "    Message_tp = ab3\n",
    "else:\n",
    "    Message_tp = ab4\n",
    "#print(Message_tp) \n",
    "\n",
    "#Recupera a mensagem Original\n",
    "\n",
    "if np.all(Message_tp == ab1):\n",
    "    Message_final = Message_tp\n",
    "elif np.all(Message_tp == ab2):\n",
    "    Message_final = Z * X * Message_tp  \n",
    "elif np.all(Message_tp == ab3):\n",
    "    Message_final = X * Message_tp \n",
    "elif np.all(Message_tp == ab4):\n",
    "    Message_final = Z * Message_tp \n",
    "    \n",
    "if np.all(Message_final == Message):\n",
    "    print('Teletransporte concluído com sucesso')\n",
    "else:\n",
    "    print('Falha no Teletransporte')\n",
    "\n",
    "print(Message_final)    \n",
    "    "
   ]
  },
  {
   "cell_type": "code",
   "execution_count": null,
   "id": "47226377",
   "metadata": {},
   "outputs": [],
   "source": []
  },
  {
   "cell_type": "code",
   "execution_count": null,
   "id": "76e97dee",
   "metadata": {},
   "outputs": [],
   "source": []
  }
 ],
 "metadata": {
  "kernelspec": {
   "display_name": "Python 3 (ipykernel)",
   "language": "python",
   "name": "python3"
  },
  "language_info": {
   "codemirror_mode": {
    "name": "ipython",
    "version": 3
   },
   "file_extension": ".py",
   "mimetype": "text/x-python",
   "name": "python",
   "nbconvert_exporter": "python",
   "pygments_lexer": "ipython3",
   "version": "3.10.6"
  }
 },
 "nbformat": 4,
 "nbformat_minor": 5
}
