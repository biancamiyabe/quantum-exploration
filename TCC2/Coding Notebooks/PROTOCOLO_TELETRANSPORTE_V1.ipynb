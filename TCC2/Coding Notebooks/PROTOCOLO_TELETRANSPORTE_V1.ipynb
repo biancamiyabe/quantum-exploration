{
 "cells": [
  {
   "cell_type": "code",
   "execution_count": 1,
   "id": "fc6aabbc",
   "metadata": {},
   "outputs": [],
   "source": [
    "import numpy as np\n",
    "import math as mt\n",
    "import sympy as sp\n",
    "from sympy.physics.quantum import TensorProduct as TP\n",
    "from math import sqrt\n",
    "import sys\n",
    "import random"
   ]
  },
  {
   "cell_type": "code",
   "execution_count": 2,
   "id": "5fb5b7b1",
   "metadata": {},
   "outputs": [],
   "source": [
    "#Qubits iniciais\n",
    "qbit0= np.matrix([1,0]).transpose()\n",
    "qbit1= np.matrix([0,1]).transpose()\n",
    "\n",
    "\n",
    "#Porta H\n",
    "H = 1/sqrt(2)*(np.matrix([[1,1], [1,-1]]))\n",
    "\n",
    "#Aplicação da porta Hadamard no qubit qx\n",
    "Hqbit0= H*qbit0\n",
    "#print(Hqbit0)\n",
    "\n",
    "#Aplicação da porta CNOT\n",
    "CNOT = np.matrix([[1,0,0,0],[0,1,0,0],[0,0,0,1],[0,0,1,0]])\n",
    "\n",
    "#Base de Bell estado |00>\n",
    "\n",
    "#Definição Alvo e Controle\n",
    "AC= TP(Hqbit0,qbit0)\n",
    "#print(AC)\n",
    "\n",
    "Bell00 = CNOT * AC\n",
    "\n",
    "#print(Bell00)\n",
    "\n",
    "   "
   ]
  },
  {
   "cell_type": "code",
   "execution_count": 3,
   "id": "64de6491",
   "metadata": {},
   "outputs": [
    {
     "data": {
      "text/plain": [
       "matrix([[1, 0, 0, 0],\n",
       "        [0, 1, 0, 0],\n",
       "        [0, 0, 0, 1],\n",
       "        [0, 0, 1, 0]])"
      ]
     },
     "execution_count": 3,
     "metadata": {},
     "output_type": "execute_result"
    }
   ],
   "source": [
    "CNOT"
   ]
  },
  {
   "cell_type": "code",
   "execution_count": 4,
   "id": "53991112",
   "metadata": {},
   "outputs": [
    {
     "data": {
      "text/plain": [
       "matrix([[0.70710678],\n",
       "        [0.        ],\n",
       "        [0.70710678],\n",
       "        [0.        ]])"
      ]
     },
     "execution_count": 4,
     "metadata": {},
     "output_type": "execute_result"
    }
   ],
   "source": [
    "AC"
   ]
  },
  {
   "cell_type": "code",
   "execution_count": 8,
   "id": "f3a6a8ea",
   "metadata": {},
   "outputs": [
    {
     "data": {
      "text/plain": [
       "['__call__',\n",
       " '__class__',\n",
       " '__delattr__',\n",
       " '__dir__',\n",
       " '__doc__',\n",
       " '__eq__',\n",
       " '__format__',\n",
       " '__ge__',\n",
       " '__getattribute__',\n",
       " '__getstate__',\n",
       " '__gt__',\n",
       " '__hash__',\n",
       " '__init__',\n",
       " '__init_subclass__',\n",
       " '__le__',\n",
       " '__lt__',\n",
       " '__module__',\n",
       " '__name__',\n",
       " '__ne__',\n",
       " '__new__',\n",
       " '__qualname__',\n",
       " '__reduce__',\n",
       " '__reduce_ex__',\n",
       " '__repr__',\n",
       " '__self__',\n",
       " '__setattr__',\n",
       " '__sizeof__',\n",
       " '__str__',\n",
       " '__subclasshook__',\n",
       " '__text_signature__']"
      ]
     },
     "execution_count": 8,
     "metadata": {},
     "output_type": "execute_result"
    }
   ],
   "source": [
    "dir(np.array)"
   ]
  },
  {
   "cell_type": "code",
   "execution_count": 3,
   "id": "cefcb26f",
   "metadata": {
    "scrolled": true
   },
   "outputs": [
    {
     "name": "stdout",
     "output_type": "stream",
     "text": [
      "Qual o estado alfa do Qubit que deseja enviar?0.75\n",
      "Qual o estado beta do Qubit que deseja enviar?0.25\n",
      "[[0.75]\n",
      " [0.25]]\n"
     ]
    }
   ],
   "source": [
    "#Determinação do qubit para o protocolo\n",
    "Message_alfa = float(input('Qual o estado alfa do Qubit que deseja enviar?'))\n",
    "Message_beta = float(input('Qual o estado beta do Qubit que deseja enviar?'))\n",
    "\n",
    "\n",
    "#Verifica se a soma é igual a 1 (condição de normalização)\n",
    "if not mt.isclose(Message_alfa  +Message_beta, 1.0):\n",
    "    print(\"Erro: A soma das entradas não é igual a 1.\")\n",
    "    sys.exit()\n",
    "    \n",
    "#Determina a mensagem a ser enviada\n",
    "Message = (Message_alfa * qbit0) + (Message_beta * qbit1)\n",
    "\n",
    "print(Message)\n",
    "\n",
    "#Estado psi_0 \n",
    "\n",
    "psi_0 = TP(qbit0, qbit0, qbit0) + TP(qbit0, qbit1, qbit1) + TP(qbit1,qbit0, qbit0) + TP(qbit1,qbit1,qbit1)\n",
    "\n",
    "#Aplicação da porta CNOT\n",
    "#Dimensionamento para 3 qubits\n",
    "#Porta I\n",
    "I = np.matrix ([[1,0], [0,1]])\n",
    "CNOT_I = TP(CNOT,I)\n",
    "\n",
    "#print(CNOT_I)\n",
    "psi_1 = CNOT_I * psi_0\n",
    "\n",
    "#print(psi_1)\n",
    "\n",
    "#Aplicação da porta Hadamard\n",
    "H_Message_alfa = H * (Message_alfa * qbit0)\n",
    "H_Message_beta = H * (Message_beta * qbit1)\n",
    "\n",
    "#print(H_Message_alfa, H_Message_beta)"
   ]
  },
  {
   "cell_type": "code",
   "execution_count": 4,
   "id": "d788f4e9",
   "metadata": {
    "scrolled": true
   },
   "outputs": [
    {
     "name": "stdout",
     "output_type": "stream",
     "text": [
      "[[0.53033009]\n",
      " [0.        ]] [[0.        ]\n",
      " [0.53033009]] [[0.1767767]\n",
      " [0.       ]] [[ 0.       ]\n",
      " [-0.1767767]]\n",
      "[[0]\n",
      " [1]\n",
      " [0]\n",
      " [0]]\n"
     ]
    }
   ],
   "source": [
    "#Medida e Reconstrução da Mensagem\n",
    "\n",
    "estadoa0 = float(H_Message_alfa[0][0])\n",
    "estadoa1 = float(H_Message_alfa[1][0])\n",
    "estadob0 = float(H_Message_beta[0][0])\n",
    "estadob1 = float(H_Message_beta[1][0])\n",
    "\n",
    "\n",
    "#Determinação dos estados do qbitmensagem\n",
    "a0 = np.matrix([estadoa0,0]).transpose()\n",
    "a1 = np.matrix([0,estadoa1]).transpose()\n",
    "b0 = np.matrix([estadob0,0]).transpose()\n",
    "b1 = np.matrix([0,estadob1]).transpose()\n",
    "\n",
    "print(a0,a1,b0,b1)\n",
    "\n",
    "#Determinação dos possíveis estados da Mensagem\n",
    "\n",
    "#Medição\n",
    "\n",
    "estado_00 = TP(qbit0, qbit0)\n",
    "estado_11 = TP(qbit1, qbit1)\n",
    "estado_10 = TP(qbit1, qbit0)\n",
    "estado_01 = TP(qbit0, qbit1)\n",
    "\n",
    "group_estados = [estado_00,estado_11,estado_10,estado_01]\n",
    "chosen_estados = random.choice(group_estados)\n",
    "Medição = chosen_estados\n",
    "\n",
    "del estado_00, estado_11, estado_10, estado_01\n",
    "\n",
    "print(Medição)"
   ]
  },
  {
   "cell_type": "code",
   "execution_count": 5,
   "id": "c76282fc",
   "metadata": {},
   "outputs": [
    {
     "name": "stdout",
     "output_type": "stream",
     "text": [
      "Teletransporte concluído com sucesso\n",
      "[[0.75]\n",
      " [0.25]] [[0.75]\n",
      " [0.25]]\n"
     ]
    }
   ],
   "source": [
    "#Reconstrução da Mensagem\n",
    "#Define o qubit mensagem em função do estado medido\n",
    "if  np.all(Medição == (TP(qbit0,qbit0))):\n",
    "    Message_tp = (a0-b1)\n",
    "elif  np.all(Medição == (TP(qbit1,qbit1))):\n",
    "    Message_tp = (a1-b0)\n",
    "elif  np.all(Medição == (TP(qbit0,qbit1))):\n",
    "    Message_tp = (a1+b0)\n",
    "elif np.all(Medição == (TP(qbit1,qbit0))):\n",
    "    Message_tp = (a0+b1)\n",
    "#print(Message_tp) \n",
    "\n",
    "#Recupera a mensagem Original\n",
    "\n",
    "# Define as matrizes de Pauli\n",
    "X = np.matrix([[0, 1], [1, 0]])\n",
    "Z = np.matrix([[1, 0], [0, -1]])\n",
    "\n",
    "if np.all(Message_tp == (a0-b1)):\n",
    "    Message_final = Message_tp\n",
    "elif np.all(Message_tp == (a1-b0)):\n",
    "    Message_final = Z * X * Message_tp \n",
    "elif np.all(Message_tp == (a1+b0)):\n",
    "    Message_final = X * Message_tp \n",
    "elif np.all(Message_tp == (a0+b1)):\n",
    "    Message_final = Z * Message_tp \n",
    "\n",
    "Mensagem_teletransportada = Message_final*sqrt(2)   \n",
    "    \n",
    "if np.all(Mensagem_teletransportada == Message):\n",
    "    print('Teletransporte concluído com sucesso')\n",
    "else:\n",
    "    print('Falha no Teletransporte')\n",
    "\n",
    "print(Message, Mensagem_teletransportada)\n",
    "\n",
    "\n",
    "\n",
    "#Soma_prob_final=0\n",
    "#Soma_prob_inicial=0\n",
    "\n",
    "#for linha in Mensagem_teletransportada:\n",
    "#    for elemento in linha:\n",
    "#        Soma_prob_final += elemento\n",
    "\n",
    "#for linha in Message:\n",
    "#    for elemento in linha:\n",
    "#        Soma_prob_inicial += elemento  \n",
    "        \n",
    "#if Soma_prob_final == Soma_prob_inicial:\n",
    "#    print('Teletransporte concluído com sucesso')\n",
    "#else:\n",
    "#    print('Erro no Teletransporte')\n",
    "    \n",
    "#print(Soma_prob_final, Soma_prob_inicial)\n"
   ]
  },
  {
   "cell_type": "code",
   "execution_count": null,
   "id": "47226377",
   "metadata": {},
   "outputs": [],
   "source": []
  },
  {
   "cell_type": "code",
   "execution_count": null,
   "id": "2b3cc23f",
   "metadata": {},
   "outputs": [],
   "source": []
  },
  {
   "cell_type": "code",
   "execution_count": null,
   "id": "76e97dee",
   "metadata": {},
   "outputs": [],
   "source": []
  }
 ],
 "metadata": {
  "kernelspec": {
   "display_name": "Python 3 (ipykernel)",
   "language": "python",
   "name": "python3"
  },
  "language_info": {
   "codemirror_mode": {
    "name": "ipython",
    "version": 3
   },
   "file_extension": ".py",
   "mimetype": "text/x-python",
   "name": "python",
   "nbconvert_exporter": "python",
   "pygments_lexer": "ipython3",
   "version": "3.11.2"
  }
 },
 "nbformat": 4,
 "nbformat_minor": 5
}
